{
  "nbformat": 4,
  "nbformat_minor": 0,
  "metadata": {
    "colab": {
      "provenance": []
    },
    "kernelspec": {
      "name": "python3",
      "display_name": "Python 3"
    },
    "language_info": {
      "name": "python"
    }
  },
  "cells": [
    {
      "cell_type": "markdown",
      "source": [
        "# Amazon Product Review Scraper"
      ],
      "metadata": {
        "id": "XoDj4i_ti-q8"
      }
    },
    {
      "cell_type": "markdown",
      "source": [
        "## Introduction to Web Scraping\n",
        "\n",
        "In the process of Data Analysis, we often need to retrieve data from the web, especially when a defined dataset is not available. This process is called **web scraping**. Web scraping involves automating the process of gathering information from web pages using programming languages like Python, along with libraries such as BeautifulSoup.\n",
        "\n",
        "In this notebook, we will scrape product reviews from Amazon, focusing on ethical and responsible data collection practices.\n"
      ],
      "metadata": {
        "id": "rBf0F0aXjIox"
      }
    },
    {
      "cell_type": "markdown",
      "source": [
        "## Ethical Data Collection\n",
        "\n",
        "- **Respect Privacy**: Do not collect personal information without consent.\n",
        "- **Follow Legal Guidelines**: Comply with local and international laws.\n",
        "- **Respect Terms of Service**: Abide by the terms of service of the websites.\n",
        "- **Ensure Data Security**: Protect the data from unauthorized access.\n",
        "- **Minimize Data Collection**: Collect only the necessary data."
      ],
      "metadata": {
        "id": "88BQcIZnjNJb"
      }
    },
    {
      "cell_type": "markdown",
      "source": [
        "## Amazon Reviews Scraping\n",
        "\n",
        "In this notebook, we will:\n",
        "1. Scrape product reviews from Amazon.\n",
        "2. Save the reviews in a CSV file for further analysis.\n",
        "\n"
      ],
      "metadata": {
        "id": "hI1fMSSUjRTE"
      }
    },
    {
      "cell_type": "markdown",
      "source": [
        "## Step-by-Step Guide\n",
        "\n",
        "Let's begin by importing the necessary libraries."
      ],
      "metadata": {
        "id": "tEvDqB007uvo"
      }
    },
    {
      "cell_type": "markdown",
      "source": [
        "### Importing Libraries\n",
        "\n",
        "To scrape data from websites, we need to use some powerful Python libraries. Here are the ones we'll be using:\n",
        "* `requests`: This library allows us to send HTTP requests to websites and get their HTML content. It's like our way of asking a website, \"Can I see your content, please?\"\n",
        "* `BeautifulSoup`: This library helps us parse and navigate through the HTML content we get from websites. It's like a pair of super-powered glasses that let us see and extract the data we need from a webpage. Read more [here](https://beautiful-soup-4.readthedocs.io/en/latest/).\n",
        "* `pandas`: This library is essential for data manipulation and analysis. It allows us to work with our scraped data in a structured format, like tables.\n",
        "* `datetime`: This library helps us handle date and time data, which is often useful when working with reviews that have timestamps.\n",
        "\n",
        "Let's start by importing these libraries:"
      ],
      "metadata": {
        "id": "ax5s1j2J9LHO"
      }
    },
    {
      "cell_type": "code",
      "source": [
        "# Import packages\n",
        "import requests\n",
        "import pandas as pd\n",
        "from bs4 import BeautifulSoup\n",
        "from datetime import datetime"
      ],
      "metadata": {
        "id": "jjsYcJe_jSrs"
      },
      "execution_count": 1,
      "outputs": []
    },
    {
      "cell_type": "markdown",
      "source": [
        "### Setting Up Headers\n",
        "\n",
        "When we make requests to a website, it’s important to mimic a real user to avoid getting blocked or flagged as a bot. This is where setting up headers comes into play. Headers contain information about the request being sent, such as the browser type, accepted response formats, and more. By including headers, we make our request look like it’s coming from a regular web browser.\n",
        "\n",
        "Here’s how we set up the headers:"
      ],
      "metadata": {
        "id": "u_jlUCAkjVo-"
      }
    },
    {
      "cell_type": "code",
      "source": [
        "# Header to set the requests as a browser requests\n",
        "headers = {\n",
        "    'authority': 'www.amazon.com',\n",
        "    'accept': 'text/html,application/xhtml+xml,application/xml;q=0.9,image/avif,image/webp,image/apng,*/*;q=0.8',\n",
        "    'accept-language': 'en-US,en;q=0.9,bn;q=0.8',\n",
        "    'sec-ch-ua': '\" Not A;Brand\";v=\"99\", \"Chromium\";v=\"102\", \"Google Chrome\";v=\"102\"',\n",
        "    'user-agent': 'Mozilla/5.0 (Windows NT 10.0; Win64; x64) AppleWebKit/537.36 (KHTML, like Gecko) Chrome/102.0.0.0 Safari/537.36',\n",
        "}"
      ],
      "metadata": {
        "id": "S0tWXas9jYVI"
      },
      "execution_count": 2,
      "outputs": []
    },
    {
      "cell_type": "markdown",
      "source": [
        "Explanation:\n",
        "* `authority`: Specifies the domain of the website.\n",
        "* `accept`: Indicates the types of content the client can process.\n",
        "* `accept-language`: Specifies the preferred languages for the response.\n",
        "* `sec-ch-ua`: Provides information about the user agent (browser).\n",
        "* `user-agent`: Identifies the browser and operating system being used. This is crucial for mimicking a real user.\n",
        "\n",
        "By setting up these headers, we make our HTTP requests appear as if they are coming from a regular user browsing the website. This helps in reducing the chances of our requests being blocked by the website's security measures."
      ],
      "metadata": {
        "id": "9Fe1lquh98zZ"
      }
    },
    {
      "cell_type": "markdown",
      "source": [
        "### Input the Amazon URL\n",
        "\n",
        "Now that we've set up our headers, the next step is to get the URL of the Amazon product whose reviews we want to scrape. We'll ask the user to input this URL. This makes our script flexible, allowing us to scrape reviews for any product by simply providing its URL.\n",
        "\n",
        "Here's how we do it:"
      ],
      "metadata": {
        "id": "82aSggjSmIDp"
      }
    },
    {
      "cell_type": "code",
      "source": [
        "# URL of the Amazon Review page\n",
        "# user_input = input(\"Enter Amazon URL to retrieve reviews: \")\n",
        "reviews_url = 'https://a.co/d/fhlUOxO'\n",
        "\n",
        "# print(f\"URL set to: {reviews_url}\")"
      ],
      "metadata": {
        "id": "Z4QBFW3HmIuj"
      },
      "execution_count": 20,
      "outputs": []
    },
    {
      "cell_type": "markdown",
      "source": [
        "## Defining Functions\n"
      ],
      "metadata": {
        "id": "zvoC9tJMmRLR"
      }
    },
    {
      "cell_type": "markdown",
      "source": [
        "### Function to Extract HTML Data\n",
        "\n",
        "Now that we have the product URL, we need a function to extract the HTML data from the Amazon review pages. This function will handle sending requests to the Amazon server and parsing the HTML content using BeautifulSoup.\n",
        "\n",
        "Here's the function to extract HTML data:"
      ],
      "metadata": {
        "id": "wIPWgdGSmT_F"
      }
    },
    {
      "cell_type": "code",
      "source": [
        "# Extract Data as Html object from amazon Review page\n",
        "# This function will also extract the product title.\n",
        "def reviewsHtml(url, len_page):\n",
        "\n",
        "    # Empty List define to store all pages html data\n",
        "    soups = []\n",
        "    title_str = None\n",
        "\n",
        "\n",
        "    # Loop for gather all reviews from all pages via range\n",
        "    for page_no in range(1, len_page + 1):\n",
        "\n",
        "        # parameter set as page no to the requests body\n",
        "        params = {\n",
        "            'ie': 'UTF8',\n",
        "            'reviewerType': 'all_reviews',\n",
        "            'filterByStar': 'critical',\n",
        "            'pageNumber': page_no,\n",
        "        }\n",
        "\n",
        "        # Request make for each page\n",
        "\n",
        "        response = requests.get(url, headers=headers)\n",
        "\n",
        "        # Save Html object by using BeautifulSoup4 and lxml parser\n",
        "        soup = BeautifulSoup(response.text, 'lxml')\n",
        "\n",
        "        if page_no == 1:\n",
        "            title = soup.find(\"span\", attrs={\"id\":'productTitle'})\n",
        "            title_str = title.string\n",
        "            title_str = title_str.strip()\n",
        "\n",
        "        # Add single Html page data in master soups list\n",
        "        soups.append(soup)\n",
        "\n",
        "    return soups,title_str"
      ],
      "metadata": {
        "id": "sX85pPN1mVsl"
      },
      "execution_count": 21,
      "outputs": []
    },
    {
      "cell_type": "markdown",
      "source": [
        "### Function to Extract Review Data\n",
        "\n",
        "After collecting the HTML content, the next step is to extract the relevant review data from these pages. This involves parsing the HTML to find specific elements like the reviewer's name, star rating, review title, review date, and the review text.\n",
        "\n",
        "Here's the function to extract review data:"
      ],
      "metadata": {
        "id": "IRoqPvvCmZPp"
      }
    },
    {
      "cell_type": "code",
      "source": [
        "#Grab Reviews name, description, date, stars, title from HTML\n",
        "#This function retuens the data dictionary that will then be converted to\n",
        "#pandas dataframe in order to upload to csv file.\n",
        "def getReviews(html_data, prod_title, len_page):\n",
        "\n",
        "    # Create Empty list to Hold all data\n",
        "    data_dicts = []\n",
        "    # The below given code is to retrieve productname\n",
        "    if prod_title:\n",
        "        prod_name = prod_title\n",
        "    else:\n",
        "        prod_name = 'N/A'\n",
        "\n",
        "\n",
        "    # Select all Reviews BOX html using css selector\n",
        "    boxes = html_data.select('div[data-hook=\"review\"]')\n",
        "\n",
        "    # Iterate all Reviews BOX\n",
        "    for box in boxes:\n",
        "\n",
        "        if prod_name:\n",
        "            product_name = prod_name\n",
        "\n",
        "        try:\n",
        "            name = box.select_one('[class=\"a-profile-name\"]').text.strip()\n",
        "        except Exception as e:\n",
        "            name = 'N/A'\n",
        "\n",
        "        try:\n",
        "            stars = box.select_one('[data-hook=\"review-star-rating\"]').text.strip().split(' out')[0]\n",
        "        except Exception as e:\n",
        "            stars = 'N/A'\n",
        "\n",
        "        try:\n",
        "            title = box.select_one('[data-hook=\"review-title\"]').text.strip()\n",
        "        except Exception as e:\n",
        "            title = 'N/A'\n",
        "\n",
        "        try:\n",
        "            # Convert date str to dd/mm/yyy format\n",
        "            datetime_str = box.select_one('[data-hook=\"review-date\"]').text.strip().split(' on ')[-1]\n",
        "            date = datetime.strptime(datetime_str, '%B %d, %Y').strftime(\"%d/%m/%Y\")\n",
        "        except Exception as e:\n",
        "            date = 'N/A'\n",
        "\n",
        "        try:\n",
        "            description = box.select_one('[data-hook=\"review-body\"]').text.strip()\n",
        "        except Exception as e:\n",
        "            description = 'N/A'\n",
        "\n",
        "        # create Dictionary with al review data\n",
        "        data_dict = {\n",
        "            'Product Name' : product_name,\n",
        "            'Name' : name,\n",
        "            'Stars' : stars,\n",
        "            'Title' : title,\n",
        "            'Date' : date,\n",
        "            'Description' : description\n",
        "        }\n",
        "\n",
        "        # Add Dictionary in master empty List\n",
        "        data_dicts.append(data_dict)\n",
        "\n",
        "    return data_dicts"
      ],
      "metadata": {
        "id": "SjIQsoNKmcos"
      },
      "execution_count": 22,
      "outputs": []
    },
    {
      "cell_type": "markdown",
      "source": [
        "### Function to Determine Total Pages"
      ],
      "metadata": {
        "id": "if9ThtGpmhZD"
      }
    },
    {
      "cell_type": "code",
      "source": [
        "def total_pages(url, page_allowance=300):\n",
        "    try:\n",
        "        # Send an HTTP GET request to the given URL with the specified headers\n",
        "        response = requests.get(url, headers=headers)\n",
        "        # Parse the HTML content of the response using BeautifulSoup with the 'html.parser' parser\n",
        "        soup = BeautifulSoup(response.text, 'html.parser')\n",
        "        total_pages = 1  # Initialize total pages to 1\n",
        "\n",
        "        # Find the element that contains the total review count\n",
        "        total_reviews_element = soup.find('span', {'data-hook': 'total-review-count'})\n",
        "        # Split the text of the total review count element to extract the count\n",
        "        count = total_reviews_element.text.split()\n",
        "\n",
        "        reviews_per_page = 10  # Assume there are 10 reviews per page\n",
        "\n",
        "        # Extract the number part from the count\n",
        "        str_num = count[0]\n",
        "        # Remove any commas from the number string\n",
        "        cleaned_str = str_num.replace(',', '')\n",
        "\n",
        "        if cleaned_str:\n",
        "            # Convert the cleaned string to an integer\n",
        "            num = int(cleaned_str)\n",
        "            print(num)  # Print the total number of reviews\n",
        "        else:\n",
        "            print(\"Error: Invalid integer format\")  # Print an error message if the string is not a valid integer\n",
        "\n",
        "        total_reviews_count = num  # Store the total number of reviews\n",
        "\n",
        "        if total_reviews_count > 0:\n",
        "            # Calculate the total number of pages based on the total reviews and reviews per page\n",
        "            total_pages = (total_reviews_count // reviews_per_page) + 1\n",
        "            # Limit the total pages to the specified page allowance\n",
        "            if total_pages > page_allowance:\n",
        "                total_pages = page_allowance\n",
        "\n",
        "        return total_pages  # Return the total number of pages\n",
        "    except Exception as e:\n",
        "        # Print an error message if an exception occurs during the process\n",
        "        print(\"Error processing the response\")\n",
        "\n"
      ],
      "metadata": {
        "id": "3C_uMksQnMMa"
      },
      "execution_count": 23,
      "outputs": []
    },
    {
      "cell_type": "markdown",
      "source": [
        "## Code Run\n",
        "\n"
      ],
      "metadata": {
        "id": "c4p9KH3knM4J"
      }
    },
    {
      "cell_type": "markdown",
      "source": [
        "### Determine the total number of pages and scrape the reviews."
      ],
      "metadata": {
        "id": "YVl-118hnuYO"
      }
    },
    {
      "cell_type": "code",
      "source": [
        "print('The url for which we are scraping reviews:',reviews_url)"
      ],
      "metadata": {
        "colab": {
          "base_uri": "https://localhost:8080/"
        },
        "id": "sSK7hfXcwGI9",
        "outputId": "c8dde819-f01a-40d3-b70b-0f8df98a90da"
      },
      "execution_count": 24,
      "outputs": [
        {
          "output_type": "stream",
          "name": "stdout",
          "text": [
            "The url for which we are scraping reviews: https://a.co/d/fhlUOxO\n"
          ]
        }
      ]
    },
    {
      "cell_type": "markdown",
      "source": [
        "Now let's evaluate how many pages of reviews are available for review. Note that we cap the pages to 300 to allow for timely execution. If you have more time, you can increase the page allowance below."
      ],
      "metadata": {
        "id": "74s_dYEe_0XU"
      }
    },
    {
      "cell_type": "code",
      "source": [
        "# Extract number of pages\n",
        "len_page = total_pages(reviews_url,page_allowance=300)\n",
        "print(f\"Total Pages: {len_page}\")\n"
      ],
      "metadata": {
        "colab": {
          "base_uri": "https://localhost:8080/"
        },
        "id": "HD2sQXUbro6T",
        "outputId": "0d2d96d5-3def-4f65-a34e-dd63b18a1cca"
      },
      "execution_count": 25,
      "outputs": [
        {
          "output_type": "stream",
          "name": "stdout",
          "text": [
            "15602\n",
            "Total Pages: 300\n"
          ]
        }
      ]
    },
    {
      "cell_type": "code",
      "source": [
        "len_page = 1"
      ],
      "metadata": {
        "id": "cdW_dqfQGTlm"
      },
      "execution_count": 26,
      "outputs": []
    },
    {
      "cell_type": "markdown",
      "source": [
        "Now let's extract all the html content for our reviews.\n",
        "\n",
        "**Important Note: This cell will take quite some time to run for products with higher reviews.**"
      ],
      "metadata": {
        "id": "vdik55QcAyH7"
      }
    },
    {
      "cell_type": "code",
      "source": [
        "# Get HTML data for all reviews\n",
        "html_datas,prod_title = reviewsHtml(reviews_url, len_page)"
      ],
      "metadata": {
        "id": "iaXM9CKGnVRq"
      },
      "execution_count": 29,
      "outputs": []
    },
    {
      "cell_type": "markdown",
      "source": [
        "Parse html data to extract review information"
      ],
      "metadata": {
        "id": "AImkaXdtBvaW"
      }
    },
    {
      "cell_type": "code",
      "source": [
        "# Empty List to Hold all reviews data\n",
        "reviews = []\n",
        "\n",
        "# Iterate all Html page\n",
        "for html_data in html_datas:\n",
        "    # Grab review data\n",
        "    review = getReviews(html_data,prod_title, len_page)\n",
        "    # add review data in reviews empty list\n",
        "    reviews += review\n",
        "\n",
        "# Create a dataframe with reviews Data\n",
        "df_reviews = pd.DataFrame(reviews)\n",
        "df_reviews.head()"
      ],
      "metadata": {
        "colab": {
          "base_uri": "https://localhost:8080/",
          "height": 459
        },
        "id": "uOp_GEFtvbXc",
        "outputId": "72c06264-0a7e-462a-aa7d-5cd2c45e4876"
      },
      "execution_count": 30,
      "outputs": [
        {
          "output_type": "execute_result",
          "data": {
            "text/plain": [
              "                                        Product Name             Name Stars  \\\n",
              "0  JBL Flip 6 - Portable Bluetooth Speaker, power...        Kassandra   5.0   \n",
              "1  JBL Flip 6 - Portable Bluetooth Speaker, power...          Shinobu   5.0   \n",
              "2  JBL Flip 6 - Portable Bluetooth Speaker, power...  Amazon Customer   5.0   \n",
              "3  JBL Flip 6 - Portable Bluetooth Speaker, power...       CA29914080   5.0   \n",
              "4  JBL Flip 6 - Portable Bluetooth Speaker, power...           Pwalli   5.0   \n",
              "\n",
              "                                               Title        Date  \\\n",
              "0  5.0 out of 5 stars\\nFantastic sound quality an...  13/06/2024   \n",
              "1                    5.0 out of 5 stars\\nWorks great  19/07/2024   \n",
              "2         5.0 out of 5 stars\\nPerfect for everywhere  23/07/2024   \n",
              "3                  5.0 out of 5 stars\\nSounds great!  02/06/2024   \n",
              "4      5.0 out of 5 stars\\nGreat sound for low price  25/07/2024   \n",
              "\n",
              "                                         Description  \n",
              "0  The JBL Flip 6 Bluetooth speaker is an absolut...  \n",
              "1  I bought this for my bf and he loves it. The b...  \n",
              "2  I purchased this for my husband for a special ...  \n",
              "3  Easy to use and connect Bluetooth. Battery lif...  \n",
              "4  I purchased this speaker to replace my wireles...  "
            ],
            "text/html": [
              "\n",
              "  <div id=\"df-57975248-6508-4b6d-be25-26cf4c2214b3\" class=\"colab-df-container\">\n",
              "    <div>\n",
              "<style scoped>\n",
              "    .dataframe tbody tr th:only-of-type {\n",
              "        vertical-align: middle;\n",
              "    }\n",
              "\n",
              "    .dataframe tbody tr th {\n",
              "        vertical-align: top;\n",
              "    }\n",
              "\n",
              "    .dataframe thead th {\n",
              "        text-align: right;\n",
              "    }\n",
              "</style>\n",
              "<table border=\"1\" class=\"dataframe\">\n",
              "  <thead>\n",
              "    <tr style=\"text-align: right;\">\n",
              "      <th></th>\n",
              "      <th>Product Name</th>\n",
              "      <th>Name</th>\n",
              "      <th>Stars</th>\n",
              "      <th>Title</th>\n",
              "      <th>Date</th>\n",
              "      <th>Description</th>\n",
              "    </tr>\n",
              "  </thead>\n",
              "  <tbody>\n",
              "    <tr>\n",
              "      <th>0</th>\n",
              "      <td>JBL Flip 6 - Portable Bluetooth Speaker, power...</td>\n",
              "      <td>Kassandra</td>\n",
              "      <td>5.0</td>\n",
              "      <td>5.0 out of 5 stars\\nFantastic sound quality an...</td>\n",
              "      <td>13/06/2024</td>\n",
              "      <td>The JBL Flip 6 Bluetooth speaker is an absolut...</td>\n",
              "    </tr>\n",
              "    <tr>\n",
              "      <th>1</th>\n",
              "      <td>JBL Flip 6 - Portable Bluetooth Speaker, power...</td>\n",
              "      <td>Shinobu</td>\n",
              "      <td>5.0</td>\n",
              "      <td>5.0 out of 5 stars\\nWorks great</td>\n",
              "      <td>19/07/2024</td>\n",
              "      <td>I bought this for my bf and he loves it. The b...</td>\n",
              "    </tr>\n",
              "    <tr>\n",
              "      <th>2</th>\n",
              "      <td>JBL Flip 6 - Portable Bluetooth Speaker, power...</td>\n",
              "      <td>Amazon Customer</td>\n",
              "      <td>5.0</td>\n",
              "      <td>5.0 out of 5 stars\\nPerfect for everywhere</td>\n",
              "      <td>23/07/2024</td>\n",
              "      <td>I purchased this for my husband for a special ...</td>\n",
              "    </tr>\n",
              "    <tr>\n",
              "      <th>3</th>\n",
              "      <td>JBL Flip 6 - Portable Bluetooth Speaker, power...</td>\n",
              "      <td>CA29914080</td>\n",
              "      <td>5.0</td>\n",
              "      <td>5.0 out of 5 stars\\nSounds great!</td>\n",
              "      <td>02/06/2024</td>\n",
              "      <td>Easy to use and connect Bluetooth. Battery lif...</td>\n",
              "    </tr>\n",
              "    <tr>\n",
              "      <th>4</th>\n",
              "      <td>JBL Flip 6 - Portable Bluetooth Speaker, power...</td>\n",
              "      <td>Pwalli</td>\n",
              "      <td>5.0</td>\n",
              "      <td>5.0 out of 5 stars\\nGreat sound for low price</td>\n",
              "      <td>25/07/2024</td>\n",
              "      <td>I purchased this speaker to replace my wireles...</td>\n",
              "    </tr>\n",
              "  </tbody>\n",
              "</table>\n",
              "</div>\n",
              "    <div class=\"colab-df-buttons\">\n",
              "\n",
              "  <div class=\"colab-df-container\">\n",
              "    <button class=\"colab-df-convert\" onclick=\"convertToInteractive('df-57975248-6508-4b6d-be25-26cf4c2214b3')\"\n",
              "            title=\"Convert this dataframe to an interactive table.\"\n",
              "            style=\"display:none;\">\n",
              "\n",
              "  <svg xmlns=\"http://www.w3.org/2000/svg\" height=\"24px\" viewBox=\"0 -960 960 960\">\n",
              "    <path d=\"M120-120v-720h720v720H120Zm60-500h600v-160H180v160Zm220 220h160v-160H400v160Zm0 220h160v-160H400v160ZM180-400h160v-160H180v160Zm440 0h160v-160H620v160ZM180-180h160v-160H180v160Zm440 0h160v-160H620v160Z\"/>\n",
              "  </svg>\n",
              "    </button>\n",
              "\n",
              "  <style>\n",
              "    .colab-df-container {\n",
              "      display:flex;\n",
              "      gap: 12px;\n",
              "    }\n",
              "\n",
              "    .colab-df-convert {\n",
              "      background-color: #E8F0FE;\n",
              "      border: none;\n",
              "      border-radius: 50%;\n",
              "      cursor: pointer;\n",
              "      display: none;\n",
              "      fill: #1967D2;\n",
              "      height: 32px;\n",
              "      padding: 0 0 0 0;\n",
              "      width: 32px;\n",
              "    }\n",
              "\n",
              "    .colab-df-convert:hover {\n",
              "      background-color: #E2EBFA;\n",
              "      box-shadow: 0px 1px 2px rgba(60, 64, 67, 0.3), 0px 1px 3px 1px rgba(60, 64, 67, 0.15);\n",
              "      fill: #174EA6;\n",
              "    }\n",
              "\n",
              "    .colab-df-buttons div {\n",
              "      margin-bottom: 4px;\n",
              "    }\n",
              "\n",
              "    [theme=dark] .colab-df-convert {\n",
              "      background-color: #3B4455;\n",
              "      fill: #D2E3FC;\n",
              "    }\n",
              "\n",
              "    [theme=dark] .colab-df-convert:hover {\n",
              "      background-color: #434B5C;\n",
              "      box-shadow: 0px 1px 3px 1px rgba(0, 0, 0, 0.15);\n",
              "      filter: drop-shadow(0px 1px 2px rgba(0, 0, 0, 0.3));\n",
              "      fill: #FFFFFF;\n",
              "    }\n",
              "  </style>\n",
              "\n",
              "    <script>\n",
              "      const buttonEl =\n",
              "        document.querySelector('#df-57975248-6508-4b6d-be25-26cf4c2214b3 button.colab-df-convert');\n",
              "      buttonEl.style.display =\n",
              "        google.colab.kernel.accessAllowed ? 'block' : 'none';\n",
              "\n",
              "      async function convertToInteractive(key) {\n",
              "        const element = document.querySelector('#df-57975248-6508-4b6d-be25-26cf4c2214b3');\n",
              "        const dataTable =\n",
              "          await google.colab.kernel.invokeFunction('convertToInteractive',\n",
              "                                                    [key], {});\n",
              "        if (!dataTable) return;\n",
              "\n",
              "        const docLinkHtml = 'Like what you see? Visit the ' +\n",
              "          '<a target=\"_blank\" href=https://colab.research.google.com/notebooks/data_table.ipynb>data table notebook</a>'\n",
              "          + ' to learn more about interactive tables.';\n",
              "        element.innerHTML = '';\n",
              "        dataTable['output_type'] = 'display_data';\n",
              "        await google.colab.output.renderOutput(dataTable, element);\n",
              "        const docLink = document.createElement('div');\n",
              "        docLink.innerHTML = docLinkHtml;\n",
              "        element.appendChild(docLink);\n",
              "      }\n",
              "    </script>\n",
              "  </div>\n",
              "\n",
              "\n",
              "<div id=\"df-21e385c0-e5f5-4ad8-af5a-448b2c7a7358\">\n",
              "  <button class=\"colab-df-quickchart\" onclick=\"quickchart('df-21e385c0-e5f5-4ad8-af5a-448b2c7a7358')\"\n",
              "            title=\"Suggest charts\"\n",
              "            style=\"display:none;\">\n",
              "\n",
              "<svg xmlns=\"http://www.w3.org/2000/svg\" height=\"24px\"viewBox=\"0 0 24 24\"\n",
              "     width=\"24px\">\n",
              "    <g>\n",
              "        <path d=\"M19 3H5c-1.1 0-2 .9-2 2v14c0 1.1.9 2 2 2h14c1.1 0 2-.9 2-2V5c0-1.1-.9-2-2-2zM9 17H7v-7h2v7zm4 0h-2V7h2v10zm4 0h-2v-4h2v4z\"/>\n",
              "    </g>\n",
              "</svg>\n",
              "  </button>\n",
              "\n",
              "<style>\n",
              "  .colab-df-quickchart {\n",
              "      --bg-color: #E8F0FE;\n",
              "      --fill-color: #1967D2;\n",
              "      --hover-bg-color: #E2EBFA;\n",
              "      --hover-fill-color: #174EA6;\n",
              "      --disabled-fill-color: #AAA;\n",
              "      --disabled-bg-color: #DDD;\n",
              "  }\n",
              "\n",
              "  [theme=dark] .colab-df-quickchart {\n",
              "      --bg-color: #3B4455;\n",
              "      --fill-color: #D2E3FC;\n",
              "      --hover-bg-color: #434B5C;\n",
              "      --hover-fill-color: #FFFFFF;\n",
              "      --disabled-bg-color: #3B4455;\n",
              "      --disabled-fill-color: #666;\n",
              "  }\n",
              "\n",
              "  .colab-df-quickchart {\n",
              "    background-color: var(--bg-color);\n",
              "    border: none;\n",
              "    border-radius: 50%;\n",
              "    cursor: pointer;\n",
              "    display: none;\n",
              "    fill: var(--fill-color);\n",
              "    height: 32px;\n",
              "    padding: 0;\n",
              "    width: 32px;\n",
              "  }\n",
              "\n",
              "  .colab-df-quickchart:hover {\n",
              "    background-color: var(--hover-bg-color);\n",
              "    box-shadow: 0 1px 2px rgba(60, 64, 67, 0.3), 0 1px 3px 1px rgba(60, 64, 67, 0.15);\n",
              "    fill: var(--button-hover-fill-color);\n",
              "  }\n",
              "\n",
              "  .colab-df-quickchart-complete:disabled,\n",
              "  .colab-df-quickchart-complete:disabled:hover {\n",
              "    background-color: var(--disabled-bg-color);\n",
              "    fill: var(--disabled-fill-color);\n",
              "    box-shadow: none;\n",
              "  }\n",
              "\n",
              "  .colab-df-spinner {\n",
              "    border: 2px solid var(--fill-color);\n",
              "    border-color: transparent;\n",
              "    border-bottom-color: var(--fill-color);\n",
              "    animation:\n",
              "      spin 1s steps(1) infinite;\n",
              "  }\n",
              "\n",
              "  @keyframes spin {\n",
              "    0% {\n",
              "      border-color: transparent;\n",
              "      border-bottom-color: var(--fill-color);\n",
              "      border-left-color: var(--fill-color);\n",
              "    }\n",
              "    20% {\n",
              "      border-color: transparent;\n",
              "      border-left-color: var(--fill-color);\n",
              "      border-top-color: var(--fill-color);\n",
              "    }\n",
              "    30% {\n",
              "      border-color: transparent;\n",
              "      border-left-color: var(--fill-color);\n",
              "      border-top-color: var(--fill-color);\n",
              "      border-right-color: var(--fill-color);\n",
              "    }\n",
              "    40% {\n",
              "      border-color: transparent;\n",
              "      border-right-color: var(--fill-color);\n",
              "      border-top-color: var(--fill-color);\n",
              "    }\n",
              "    60% {\n",
              "      border-color: transparent;\n",
              "      border-right-color: var(--fill-color);\n",
              "    }\n",
              "    80% {\n",
              "      border-color: transparent;\n",
              "      border-right-color: var(--fill-color);\n",
              "      border-bottom-color: var(--fill-color);\n",
              "    }\n",
              "    90% {\n",
              "      border-color: transparent;\n",
              "      border-bottom-color: var(--fill-color);\n",
              "    }\n",
              "  }\n",
              "</style>\n",
              "\n",
              "  <script>\n",
              "    async function quickchart(key) {\n",
              "      const quickchartButtonEl =\n",
              "        document.querySelector('#' + key + ' button');\n",
              "      quickchartButtonEl.disabled = true;  // To prevent multiple clicks.\n",
              "      quickchartButtonEl.classList.add('colab-df-spinner');\n",
              "      try {\n",
              "        const charts = await google.colab.kernel.invokeFunction(\n",
              "            'suggestCharts', [key], {});\n",
              "      } catch (error) {\n",
              "        console.error('Error during call to suggestCharts:', error);\n",
              "      }\n",
              "      quickchartButtonEl.classList.remove('colab-df-spinner');\n",
              "      quickchartButtonEl.classList.add('colab-df-quickchart-complete');\n",
              "    }\n",
              "    (() => {\n",
              "      let quickchartButtonEl =\n",
              "        document.querySelector('#df-21e385c0-e5f5-4ad8-af5a-448b2c7a7358 button');\n",
              "      quickchartButtonEl.style.display =\n",
              "        google.colab.kernel.accessAllowed ? 'block' : 'none';\n",
              "    })();\n",
              "  </script>\n",
              "</div>\n",
              "\n",
              "    </div>\n",
              "  </div>\n"
            ],
            "application/vnd.google.colaboratory.intrinsic+json": {
              "type": "dataframe",
              "variable_name": "df_reviews",
              "summary": "{\n  \"name\": \"df_reviews\",\n  \"rows\": 13,\n  \"fields\": [\n    {\n      \"column\": \"Product Name\",\n      \"properties\": {\n        \"dtype\": \"category\",\n        \"num_unique_values\": 1,\n        \"samples\": [\n          \"JBL Flip 6 - Portable Bluetooth Speaker, powerful sound and deep bass, IPX7 waterproof, 12 hours of playtime, JBL PartyBoost for multiple speaker pairing for home, outdoor and travel (Black)\"\n        ],\n        \"semantic_type\": \"\",\n        \"description\": \"\"\n      }\n    },\n    {\n      \"column\": \"Name\",\n      \"properties\": {\n        \"dtype\": \"string\",\n        \"num_unique_values\": 13,\n        \"samples\": [\n          \"christopher\"\n        ],\n        \"semantic_type\": \"\",\n        \"description\": \"\"\n      }\n    },\n    {\n      \"column\": \"Stars\",\n      \"properties\": {\n        \"dtype\": \"category\",\n        \"num_unique_values\": 3,\n        \"samples\": [\n          \"5.0\"\n        ],\n        \"semantic_type\": \"\",\n        \"description\": \"\"\n      }\n    },\n    {\n      \"column\": \"Title\",\n      \"properties\": {\n        \"dtype\": \"string\",\n        \"num_unique_values\": 13,\n        \"samples\": [\n          \"JBL\"\n        ],\n        \"semantic_type\": \"\",\n        \"description\": \"\"\n      }\n    },\n    {\n      \"column\": \"Date\",\n      \"properties\": {\n        \"dtype\": \"object\",\n        \"num_unique_values\": 11,\n        \"samples\": [\n          \"20/07/2024\"\n        ],\n        \"semantic_type\": \"\",\n        \"description\": \"\"\n      }\n    },\n    {\n      \"column\": \"Description\",\n      \"properties\": {\n        \"dtype\": \"string\",\n        \"num_unique_values\": 13,\n        \"samples\": [\n          \"Parfait la puissance et bonne de bonne bass un son plut\\u00f4t claire autonomie tr\\u00e8s correct\\nRead more\"\n        ],\n        \"semantic_type\": \"\",\n        \"description\": \"\"\n      }\n    }\n  ]\n}"
            }
          },
          "metadata": {},
          "execution_count": 30
        }
      ]
    },
    {
      "cell_type": "code",
      "source": [
        "df_reviews.shape"
      ],
      "metadata": {
        "colab": {
          "base_uri": "https://localhost:8080/"
        },
        "id": "samXD1BLrBxs",
        "outputId": "47bec059-27e3-4782-9d02-be696b2b80f2"
      },
      "execution_count": 31,
      "outputs": [
        {
          "output_type": "execute_result",
          "data": {
            "text/plain": [
              "(13, 6)"
            ]
          },
          "metadata": {},
          "execution_count": 31
        }
      ]
    },
    {
      "cell_type": "markdown",
      "source": [
        "### Saving the Data\n",
        "\n",
        "Save the reviews data to a CSV file.\n",
        "\n"
      ],
      "metadata": {
        "id": "bUFyNvdrnjpD"
      }
    },
    {
      "cell_type": "code",
      "source": [
        "filename = 'beats_studio3_amazon_product_reviews.csv'\n",
        "df_reviews.to_csv(filename, index=False)\n",
        "print(f\"Data saved to {filename}\")"
      ],
      "metadata": {
        "id": "Mh-U84tKnowN",
        "colab": {
          "base_uri": "https://localhost:8080/"
        },
        "outputId": "df3f7793-643e-4f3e-aeb8-b603554d2b42"
      },
      "execution_count": 32,
      "outputs": [
        {
          "output_type": "stream",
          "name": "stdout",
          "text": [
            "Data saved to beats_studio3_amazon_product_reviews.csv\n"
          ]
        }
      ]
    },
    {
      "cell_type": "code",
      "execution_count": null,
      "metadata": {
        "id": "KTlQfbTti4-0"
      },
      "outputs": [],
      "source": []
    }
  ]
}