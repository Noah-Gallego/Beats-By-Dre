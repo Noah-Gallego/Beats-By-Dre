{
  "nbformat": 4,
  "nbformat_minor": 0,
  "metadata": {
    "colab": {
      "provenance": []
    },
    "kernelspec": {
      "name": "python3",
      "display_name": "Python 3"
    },
    "language_info": {
      "name": "python"
    }
  },
  "cells": [
    {
      "cell_type": "code",
      "execution_count": 1,
      "metadata": {
        "colab": {
          "base_uri": "https://localhost:8080/"
        },
        "id": "TznhS_0vUVpn",
        "outputId": "0bfa879b-131e-4901-8af3-f672f7a4a407"
      },
      "outputs": [
        {
          "output_type": "stream",
          "name": "stdout",
          "text": [
            "Requirement already satisfied: numpy in /usr/local/lib/python3.10/dist-packages (1.26.4)\n"
          ]
        }
      ],
      "source": [
        "!pip install numpy"
      ]
    },
    {
      "cell_type": "code",
      "source": [
        "import numpy as np"
      ],
      "metadata": {
        "id": "xPa4ckisUdxO"
      },
      "execution_count": 3,
      "outputs": []
    },
    {
      "cell_type": "code",
      "source": [
        "# Random Numbers\n",
        "data = np.random.randn(2, 3, 4)\n",
        "\n",
        "# Zeroes\n",
        "zeroes = np.zeros((2, 2, 2))\n",
        "\n",
        "# Ones\n",
        "ones = np.ones((2, 2, 2))\n",
        "\n",
        "# Array full of the number '7'\n",
        "full = np.full((2, 2, 2), 7)"
      ],
      "metadata": {
        "id": "7AqAO05gUjsg"
      },
      "execution_count": 7,
      "outputs": []
    },
    {
      "cell_type": "code",
      "source": [
        "full"
      ],
      "metadata": {
        "colab": {
          "base_uri": "https://localhost:8080/"
        },
        "id": "cnMVcs-SUxmz",
        "outputId": "2b5259f2-6109-4ec5-f068-acde9f75f8f5"
      },
      "execution_count": 8,
      "outputs": [
        {
          "output_type": "execute_result",
          "data": {
            "text/plain": [
              "array([[[7, 7],\n",
              "        [7, 7]],\n",
              "\n",
              "       [[7, 7],\n",
              "        [7, 7]]])"
            ]
          },
          "metadata": {},
          "execution_count": 8
        }
      ]
    },
    {
      "cell_type": "code",
      "source": [
        "# Attributes\n",
        "shape = data.shape\n",
        "size = data.size\n",
        "types = data.dtype"
      ],
      "metadata": {
        "id": "Seqms4SUUyu-"
      },
      "execution_count": 9,
      "outputs": []
    },
    {
      "cell_type": "code",
      "source": [
        "# Shape of Array\n",
        "print(\"Shape: \", shape)\n",
        "\n",
        "# Size of Array (Length)\n",
        "print(\"Size: \", size)\n",
        "\n",
        "# Types of Array\n",
        "print(\"Types: \", types)"
      ],
      "metadata": {
        "colab": {
          "base_uri": "https://localhost:8080/"
        },
        "id": "-wEOarfKVJyd",
        "outputId": "4672b074-8401-4124-aaec-88da5596a164"
      },
      "execution_count": 10,
      "outputs": [
        {
          "output_type": "stream",
          "name": "stdout",
          "text": [
            "Shape:  (2, 3, 4)\n",
            "Size:  24\n",
            "Types:  float64\n"
          ]
        }
      ]
    },
    {
      "cell_type": "code",
      "source": [
        "# Slicing\n",
        "arr = data[0]\n",
        "slicer = data[0:2]\n",
        "reverse = data[-1]\n",
        "single_val = data[0][0][0]\n",
        "\n",
        "print(\"Array: \", arr)\n",
        "print(\"\\nSlicer: \", slicer)\n",
        "print(\"\\nReverse: \", reverse)\n",
        "print(\"\\nSingle Value: \", single_val)"
      ],
      "metadata": {
        "colab": {
          "base_uri": "https://localhost:8080/"
        },
        "id": "zwgJGlMnVOFw",
        "outputId": "b508b6a1-3204-4f29-d26e-c54696a42ee2"
      },
      "execution_count": 12,
      "outputs": [
        {
          "output_type": "stream",
          "name": "stdout",
          "text": [
            "Array:  [[-1.59447856  0.4398296  -0.52026061  1.45759518]\n",
            " [ 1.09718817 -0.19316821 -2.07384365 -0.55342014]\n",
            " [ 1.77657487 -1.16677323  0.74333947 -0.84605345]]\n",
            "\n",
            "Slicer:  [[[-1.59447856  0.4398296  -0.52026061  1.45759518]\n",
            "  [ 1.09718817 -0.19316821 -2.07384365 -0.55342014]\n",
            "  [ 1.77657487 -1.16677323  0.74333947 -0.84605345]]\n",
            "\n",
            " [[ 0.74582017 -0.19164065  1.67459287  0.21038183]\n",
            "  [ 1.36169248  1.80893616 -0.1241268  -0.16462048]\n",
            "  [ 0.62797233  0.34520336  1.26923251  0.29546932]]]\n",
            "\n",
            "Reverse:  [[ 0.74582017 -0.19164065  1.67459287  0.21038183]\n",
            " [ 1.36169248  1.80893616 -0.1241268  -0.16462048]\n",
            " [ 0.62797233  0.34520336  1.26923251  0.29546932]]\n",
            "\n",
            "Single Value:  -1.5944785553520529\n"
          ]
        }
      ]
    },
    {
      "cell_type": "code",
      "source": [
        "list1 = np.random.randn(10)\n",
        "list2 = np.random.randn(10)\n",
        "\n",
        "# Basic Math\n",
        "add = np.add(list1, list2)\n",
        "sub = np.subtract(list1, list2)\n",
        "div = np.divide(list1, list2)\n",
        "mul = np.multiply(list1, list2)\n",
        "dot = np.dot(list1, list2)"
      ],
      "metadata": {
        "id": "AQSg4tdsVjy3"
      },
      "execution_count": 14,
      "outputs": []
    },
    {
      "cell_type": "code",
      "source": [
        "print(\"Add: \", add)\n",
        "print(\"\\nSub: \", sub)\n",
        "print(\"\\nDiv: \", div)\n",
        "print(\"\\nMul: \", mul)\n",
        "print(\"\\nDot: \", dot)"
      ],
      "metadata": {
        "colab": {
          "base_uri": "https://localhost:8080/"
        },
        "id": "8iKae0WRXfSa",
        "outputId": "1aa313cd-05bd-4043-a9a5-feb542337c41"
      },
      "execution_count": 15,
      "outputs": [
        {
          "output_type": "stream",
          "name": "stdout",
          "text": [
            "Add:  [-0.16558812  1.34944793 -0.76948134  0.01190055 -0.86124773  2.50196024\n",
            " -1.54505148  1.92872604  0.62742049 -1.14698088]\n",
            "\n",
            "Sub:  [ 2.26031226 -0.29953235 -1.16144575  1.45801848  0.96693635  0.88619718\n",
            " -1.23891458  1.88019369  0.76914979  0.37760844]\n",
            "\n",
            "Div:  [-8.63483168e-01  6.36705967e-01 -4.92628169e+00 -1.01645861e+00\n",
            " -5.78107071e-02  2.09693951e+00  9.09385995e+00  7.84820792e+01\n",
            " -9.85378661e+00  5.04642418e-01]\n",
            "\n",
            "Mul:  [-1.27039802  0.43282252 -0.18921367 -0.53141907 -0.04830456  1.36861491\n",
            "  0.21306868  0.04621396 -0.04948373  0.29324425]\n",
            "\n",
            "Dot:  0.2651452681149501\n"
          ]
        }
      ]
    },
    {
      "cell_type": "code",
      "source": [
        "# Stat Functions\n",
        "sqrt = np.sqrt(25)\n",
        "ab = np.abs(-2)\n",
        "power = np.power(2, 8)\n",
        "log = np.log(25)\n",
        "exp = np.exp([2, 5])\n",
        "max = np.max(list1)\n",
        "min = np.min(list1)\n",
        "\n",
        "# Print\n",
        "print(\"Sqrt: \", sqrt)\n",
        "print(\"\\nAbs: \", ab)\n",
        "print(\"\\nPower: \", power)\n",
        "print(\"\\nLog: \", log)\n",
        "print(\"\\nExp: \", exp)\n",
        "print(\"\\nMax: \", max)\n",
        "print(\"\\nMin: \", min)"
      ],
      "metadata": {
        "colab": {
          "base_uri": "https://localhost:8080/"
        },
        "id": "pY8GHywgXkAU",
        "outputId": "45a2e5b3-cc22-4603-875a-3e7106f604a6"
      },
      "execution_count": 17,
      "outputs": [
        {
          "output_type": "stream",
          "name": "stdout",
          "text": [
            "Sqrt:  5.0\n",
            "\n",
            "Abs:  2\n",
            "\n",
            "Power:  256\n",
            "\n",
            "Log:  3.2188758248682006\n",
            "\n",
            "Exp:  [  7.3890561 148.4131591]\n",
            "\n",
            "Max:  1.9044598675272455\n",
            "\n",
            "Min:  -1.3919830318045712\n"
          ]
        }
      ]
    },
    {
      "cell_type": "code",
      "source": [
        "# Change Values\n",
        "data[0][0][0] = 1000\n",
        "data"
      ],
      "metadata": {
        "colab": {
          "base_uri": "https://localhost:8080/"
        },
        "id": "oikHtdr2YF8A",
        "outputId": "f357f31a-487b-47c7-edcd-82420b6eafaa"
      },
      "execution_count": 19,
      "outputs": [
        {
          "output_type": "execute_result",
          "data": {
            "text/plain": [
              "array([[[ 1.00000000e+03,  4.39829596e-01, -5.20260605e-01,\n",
              "          1.45759518e+00],\n",
              "        [ 1.09718817e+00, -1.93168212e-01, -2.07384365e+00,\n",
              "         -5.53420138e-01],\n",
              "        [ 1.77657487e+00, -1.16677323e+00,  7.43339470e-01,\n",
              "         -8.46053450e-01]],\n",
              "\n",
              "       [[ 7.45820171e-01, -1.91640653e-01,  1.67459287e+00,\n",
              "          2.10381827e-01],\n",
              "        [ 1.36169248e+00,  1.80893616e+00, -1.24126796e-01,\n",
              "         -1.64620482e-01],\n",
              "        [ 6.27972327e-01,  3.45203357e-01,  1.26923251e+00,\n",
              "          2.95469316e-01]]])"
            ]
          },
          "metadata": {},
          "execution_count": 19
        }
      ]
    },
    {
      "cell_type": "code",
      "source": [
        "data.sort()\n",
        "data"
      ],
      "metadata": {
        "colab": {
          "base_uri": "https://localhost:8080/"
        },
        "id": "ffu0GyeoYwKu",
        "outputId": "d880360b-bf65-482f-e497-18bf40d3090e"
      },
      "execution_count": 20,
      "outputs": [
        {
          "output_type": "execute_result",
          "data": {
            "text/plain": [
              "array([[[-5.20260605e-01,  4.39829596e-01,  1.45759518e+00,\n",
              "          1.00000000e+03],\n",
              "        [-2.07384365e+00, -5.53420138e-01, -1.93168212e-01,\n",
              "          1.09718817e+00],\n",
              "        [-1.16677323e+00, -8.46053450e-01,  7.43339470e-01,\n",
              "          1.77657487e+00]],\n",
              "\n",
              "       [[-1.91640653e-01,  2.10381827e-01,  7.45820171e-01,\n",
              "          1.67459287e+00],\n",
              "        [-1.64620482e-01, -1.24126796e-01,  1.36169248e+00,\n",
              "          1.80893616e+00],\n",
              "        [ 2.95469316e-01,  3.45203357e-01,  6.27972327e-01,\n",
              "          1.26923251e+00]]])"
            ]
          },
          "metadata": {},
          "execution_count": 20
        }
      ]
    },
    {
      "cell_type": "code",
      "source": [
        "data.shape"
      ],
      "metadata": {
        "colab": {
          "base_uri": "https://localhost:8080/"
        },
        "id": "hqYPj9UGY1LC",
        "outputId": "351b3d75-c5c1-4bd0-b904-95b4e495b40a"
      },
      "execution_count": 21,
      "outputs": [
        {
          "output_type": "execute_result",
          "data": {
            "text/plain": [
              "(2, 3, 4)"
            ]
          },
          "metadata": {},
          "execution_count": 21
        }
      ]
    },
    {
      "cell_type": "code",
      "source": [
        "data = data.reshape(2, 6, -1)"
      ],
      "metadata": {
        "id": "z7XLGXm-Y4zd"
      },
      "execution_count": 22,
      "outputs": []
    },
    {
      "cell_type": "code",
      "source": [
        "data.shape"
      ],
      "metadata": {
        "colab": {
          "base_uri": "https://localhost:8080/"
        },
        "id": "lwHW4LXJY_JN",
        "outputId": "fa96d543-e68f-4d10-ee0f-247bb867a47d"
      },
      "execution_count": 24,
      "outputs": [
        {
          "output_type": "execute_result",
          "data": {
            "text/plain": [
              "(2, 6, 2)"
            ]
          },
          "metadata": {},
          "execution_count": 24
        }
      ]
    },
    {
      "cell_type": "code",
      "source": [],
      "metadata": {
        "id": "9r1DbSHmZAMA"
      },
      "execution_count": null,
      "outputs": []
    }
  ]
}