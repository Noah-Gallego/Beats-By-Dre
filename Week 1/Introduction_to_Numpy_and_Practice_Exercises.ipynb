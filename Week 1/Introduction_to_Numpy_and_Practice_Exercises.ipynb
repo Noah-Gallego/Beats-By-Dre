{
  "cells": [
    {
      "cell_type": "markdown",
      "id": "e96f37c2-ebd3-4bc4-90c0-710b5f7c1944",
      "metadata": {
        "id": "e96f37c2-ebd3-4bc4-90c0-710b5f7c1944"
      },
      "source": [
        "# Numpy - An Introduction"
      ]
    },
    {
      "cell_type": "markdown",
      "source": [
        "Numerical Python, in-short Numpy is an open-source software, which has the fundamental package for scientific computing with Python. It provides a high-performance multidimensional array object and tools for working with these arrays. It also includes a wide range of Mathematical functions such as Linear Algebra, Fourier Transforms and random number generation, which can be applied to arrays.\n",
        "\n",
        "Numpy is generally used in the following fields\n",
        "1. Machine Learning\n",
        "2. DataScience\n",
        "3. Image and signal processing\n",
        "4. Scientific Computing\n",
        "5. Quantum Computing\n",
        "\n"
      ],
      "metadata": {
        "id": "S_WGl5jHNuQE"
      },
      "id": "S_WGl5jHNuQE"
    },
    {
      "cell_type": "markdown",
      "source": [
        "### Why Numpy?\n",
        "1. Faster Execution - Numpy arrays are optimised for complex mathematical and statistical operations. Operations on Numpy are upto 50 times faster than native python lists.\n",
        "2. Used with various libraries - It is extensively used with various libraries like Pandas, Scipy, Scikit-Learn etcetera.\n"
      ],
      "metadata": {
        "id": "CjklyURdNwi2"
      },
      "id": "CjklyURdNwi2"
    },
    {
      "cell_type": "markdown",
      "source": [
        "### Installation\n"
      ],
      "metadata": {
        "id": "32btrVBwNyeq"
      },
      "id": "32btrVBwNyeq"
    },
    {
      "cell_type": "markdown",
      "source": [
        "First, let's install NumPy. If you are running this in Google Colab, you don't need to install it as it's already available."
      ],
      "metadata": {
        "id": "MBvv8FwNN6LE"
      },
      "id": "MBvv8FwNN6LE"
    },
    {
      "cell_type": "code",
      "execution_count": null,
      "id": "d2529d73-9c85-4474-ad68-06f364113028",
      "metadata": {
        "id": "d2529d73-9c85-4474-ad68-06f364113028",
        "outputId": "4cd38f79-3c77-428b-c738-22599d8d35a0"
      },
      "outputs": [
        {
          "name": "stdout",
          "output_type": "stream",
          "text": [
            "Defaulting to user installation because normal site-packages is not writeable\n",
            "Requirement already satisfied: numpy in c:\\programdata\\anaconda3\\lib\\site-packages (1.25.2)\n"
          ]
        },
        {
          "name": "stderr",
          "output_type": "stream",
          "text": [
            "WARNING: Ignoring invalid distribution -atplotlib (c:\\programdata\\anaconda3\\lib\\site-packages)\n",
            "WARNING: Ignoring invalid distribution -cipy (c:\\programdata\\anaconda3\\lib\\site-packages)\n",
            "WARNING: Ignoring invalid distribution -atplotlib (c:\\programdata\\anaconda3\\lib\\site-packages)\n",
            "WARNING: Ignoring invalid distribution -cipy (c:\\programdata\\anaconda3\\lib\\site-packages)\n"
          ]
        }
      ],
      "source": [
        "!pip install numpy"
      ]
    },
    {
      "cell_type": "markdown",
      "id": "aa9ce2d5-999f-4593-a908-3ac8d13e06f6",
      "metadata": {
        "id": "aa9ce2d5-999f-4593-a908-3ac8d13e06f6"
      },
      "source": [
        "Once Numpy is installed, it should be imported as given below to use numpy's packages in programming"
      ]
    },
    {
      "cell_type": "code",
      "execution_count": null,
      "id": "d919dd6d-2813-4808-a901-66ec68fe4ca9",
      "metadata": {
        "id": "d919dd6d-2813-4808-a901-66ec68fe4ca9"
      },
      "outputs": [],
      "source": [
        "import numpy as np # np is the alias name for the imported numpy library."
      ]
    },
    {
      "cell_type": "markdown",
      "id": "24d8d4f8-95b1-4062-b2ad-652a3c136dba",
      "metadata": {
        "id": "24d8d4f8-95b1-4062-b2ad-652a3c136dba"
      },
      "source": [
        "## Numpy Datastructure:\n",
        "The primary data structure in NumPy is the ndarray, which stands for N-dimensional array. Numpy arrays have the following restrictions.\n",
        "1. All the elements of the array must be of same datatype\n",
        "2. Once the array is declared we cannot change the total size of the array.\n",
        "3. The shape of the array must be rectangular, ,meaning each row of the 2-dimensional array must have the same number of columns.\n",
        "\n"
      ]
    },
    {
      "cell_type": "markdown",
      "source": [
        "## Creating Arrays\n",
        "\n",
        "One way to initialise the numpy array is to use python lists."
      ],
      "metadata": {
        "id": "d8yMjTqROAx4"
      },
      "id": "d8yMjTqROAx4"
    },
    {
      "cell_type": "code",
      "execution_count": null,
      "id": "5e4d1fb1-e834-4ad4-b4c1-e15ef1c9169f",
      "metadata": {
        "id": "5e4d1fb1-e834-4ad4-b4c1-e15ef1c9169f",
        "outputId": "3e269f42-0162-4d5f-970c-223f8638fa6b"
      },
      "outputs": [
        {
          "data": {
            "text/plain": [
              "array([1, 2, 3, 4, 5, 6])"
            ]
          },
          "execution_count": 100,
          "metadata": {},
          "output_type": "execute_result"
        }
      ],
      "source": [
        "# Creating a single dimensional array\n",
        "array = np.array([1,2,3,4,5,6])\n",
        "array"
      ]
    },
    {
      "cell_type": "markdown",
      "id": "4566e642-1229-4e39-bf55-bb34052046ec",
      "metadata": {
        "id": "4566e642-1229-4e39-bf55-bb34052046ec"
      },
      "source": [
        "So now that we have declared a single dimensional array. There are other built-in functions that Numpy offers like, declaring arrays with only zeroes and ones. We will see that and will see how to declare a two dimensional array."
      ]
    },
    {
      "cell_type": "code",
      "execution_count": null,
      "id": "c626724c-cf09-47c9-8095-3aead38f23d8",
      "metadata": {
        "id": "c626724c-cf09-47c9-8095-3aead38f23d8",
        "outputId": "f99ace6c-de8a-42ec-b98e-dfc017440a8c"
      },
      "outputs": [
        {
          "data": {
            "text/plain": [
              "array([[0., 0., 0.],\n",
              "       [0., 0., 0.],\n",
              "       [0., 0., 0.]])"
            ]
          },
          "execution_count": 101,
          "metadata": {},
          "output_type": "execute_result"
        }
      ],
      "source": [
        "zero_arr = np.zeros([3,3]) # This code will generate a simple 3-dimensional array with only zeros.\n",
        "zero_arr"
      ]
    },
    {
      "cell_type": "markdown",
      "id": "ee977244-7571-4b21-8bfc-4dca82bf784f",
      "metadata": {
        "id": "ee977244-7571-4b21-8bfc-4dca82bf784f"
      },
      "source": [
        "Likewise arrays with only ones also can be generated. In Numpy arrays, we can even mention different datatypes for x-axis and y-axis."
      ]
    },
    {
      "cell_type": "code",
      "execution_count": null,
      "id": "46edccc3-f08f-4078-a5ed-8e75fb290fa9",
      "metadata": {
        "id": "46edccc3-f08f-4078-a5ed-8e75fb290fa9",
        "outputId": "1458b358-edc9-44aa-a283-86a0ee1a31a9"
      },
      "outputs": [
        {
          "data": {
            "text/plain": [
              "array([[(1., 1), (1., 1), (1., 1)],\n",
              "       [(1., 1), (1., 1), (1., 1)],\n",
              "       [(1., 1), (1., 1), (1., 1)]], dtype=[('x', '<f8'), ('y', '<i4')])"
            ]
          },
          "execution_count": 102,
          "metadata": {},
          "output_type": "execute_result"
        }
      ],
      "source": [
        "ones_arr = np.ones([3,3],dtype=[('x', 'float'), ('y', 'int')])\n",
        "ones_arr"
      ]
    },
    {
      "cell_type": "markdown",
      "id": "af884ae2-c666-4e2c-a72e-3fb60aed46b1",
      "metadata": {
        "id": "af884ae2-c666-4e2c-a72e-3fb60aed46b1"
      },
      "source": [
        "## Indexing and Slicing Arrays:\n",
        "\n",
        "Elements of the array can be accessed using the indexes and a portion of the arrays can be sliced and assigned as a new array or can be used as is. With numpy arrays we can perform almost all operation that we do with Pandas lists. However, following are few of the significant functionalities that we can try with numpy arrays.\n",
        "\n",
        "1. Basic slicing\n",
        "2. Fancy indexing\n",
        "3. Boolean indexing\n",
        "4. Multidimensional array indexing"
      ]
    },
    {
      "cell_type": "markdown",
      "id": "93be6f99-9c8e-4d54-b433-13b1c7b24f42",
      "metadata": {
        "id": "93be6f99-9c8e-4d54-b433-13b1c7b24f42"
      },
      "source": [
        "##### 1. Basic Slicing"
      ]
    },
    {
      "cell_type": "code",
      "execution_count": null,
      "id": "0b3ec8aa-183c-48fc-9c3c-68b4ea5c3048",
      "metadata": {
        "id": "0b3ec8aa-183c-48fc-9c3c-68b4ea5c3048",
        "outputId": "0c2b52d0-a690-44c0-9b3d-bcbaa31437ef"
      },
      "outputs": [
        {
          "name": "stdout",
          "output_type": "stream",
          "text": [
            "[2 3 4 5]\n"
          ]
        }
      ],
      "source": [
        "arr = np.array([1, 2, 3, 4, 5, 6, 7])\n",
        "\n",
        "print(arr[1:5]) # Array values starting from index 1 to 5 will be sliced and displayed."
      ]
    },
    {
      "cell_type": "markdown",
      "id": "1e687cca-7f66-43ca-823f-b2787636adc7",
      "metadata": {
        "id": "1e687cca-7f66-43ca-823f-b2787636adc7"
      },
      "source": [
        "##### 2.Fancy Indexing\n",
        "In NumPy, fancy indexing allows us to use an array of indices to access multiple array elements at once. It can perform more advanced and efficient array operations, including conditional filtering, sorting, and so on."
      ]
    },
    {
      "cell_type": "code",
      "execution_count": null,
      "id": "f5770a39-dda0-4fc2-b4c7-b1177d3d882c",
      "metadata": {
        "id": "f5770a39-dda0-4fc2-b4c7-b1177d3d882c",
        "outputId": "678af7be-5dfb-4f43-aa77-e1bb6117cac9"
      },
      "outputs": [
        {
          "name": "stdout",
          "output_type": "stream",
          "text": [
            "Simple Indexing: 4\n",
            "Fancy Indexing: [2 3 6 8]\n"
          ]
        }
      ],
      "source": [
        "#Let us see an example of simple indexing and fancy indexing.\n",
        "array1 = np.array([1, 2, 3, 4, 5, 6, 7, 8])\n",
        "\n",
        "# select a single element\n",
        "simple_indexing = array1[3]\n",
        "\n",
        "print(\"Simple Indexing:\",simple_indexing)   # 4\n",
        "\n",
        "# select multiple elements,\n",
        "fancy_indexing = array1[[1, 2, 5, 7]] # elements present in the index, 1, 2, 5 & 7 will be retrieved and displayed as an array.\n",
        "\n",
        "print(\"Fancy Indexing:\",fancy_indexing)   # [2 3 6 8]"
      ]
    },
    {
      "cell_type": "markdown",
      "id": "7b46efee-be48-4a1e-ad65-992665edda91",
      "metadata": {
        "id": "7b46efee-be48-4a1e-ad65-992665edda91"
      },
      "source": [
        "##### 3. Boolean Indexing\n",
        "Boolean indexing allows us to filter an array based on a specific condition. It can be achieved using setting a boolean mask. Boolean mask is used to set the condition."
      ]
    },
    {
      "cell_type": "code",
      "execution_count": null,
      "id": "7ddac59c-6aef-4a2e-be9f-701560603c8c",
      "metadata": {
        "id": "7ddac59c-6aef-4a2e-be9f-701560603c8c",
        "outputId": "f5465a4e-ac93-43fb-cc76-6dacf72ba34d"
      },
      "outputs": [
        {
          "name": "stdout",
          "output_type": "stream",
          "text": [
            "[False  True False  True  True  True False False]\n"
          ]
        }
      ],
      "source": [
        "array1 = np.array([12, 24, 16, 21, 32, 29, 7, 15])\n",
        "\n",
        "# Now let's create a mask that selects all elements of array1 that are greater than 20.\n",
        "# The result will be stored in the boolean mask variable as \"True/False\" value\n",
        "\n",
        "boolean_mask = array1 > 20\n",
        "print(\"Boolean Mask:\", boolean_mask)\n",
        "print(\"Filtered Array:\", array1[boolean_mask])"
      ]
    },
    {
      "cell_type": "markdown",
      "source": [
        "Similarly, we can implement whatever condition required and can use the result for further operations."
      ],
      "metadata": {
        "id": "idsNB_G2OUy5"
      },
      "id": "idsNB_G2OUy5"
    },
    {
      "cell_type": "markdown",
      "id": "b41ae5e1-563d-4cc1-945f-ad93f18df350",
      "metadata": {
        "id": "b41ae5e1-563d-4cc1-945f-ad93f18df350"
      },
      "source": [
        "##### 4. Multidimensional array indexing\n",
        "\n",
        "Like single dimension array indexing, multi dimensional arrays also can be indexed. Bt with the help of slicing function"
      ]
    },
    {
      "cell_type": "code",
      "execution_count": null,
      "id": "84cedf9f-e085-4498-9d29-85a259dc65cd",
      "metadata": {
        "id": "84cedf9f-e085-4498-9d29-85a259dc65cd",
        "outputId": "074436f4-204c-4635-a5b5-693b23874b3b"
      },
      "outputs": [
        {
          "name": "stdout",
          "output_type": "stream",
          "text": [
            "[[ 0  1  2  3  4  5]\n",
            " [ 6  7  8  9 10 11]\n",
            " [12 13 14 15 16 17]\n",
            " [18 19 20 21 22 23]\n",
            " [24 25 26 27 28 29]]\n",
            "[[ 6  7]\n",
            " [12 13]\n",
            " [18 19]]\n"
          ]
        }
      ],
      "source": [
        "#lets first declare a multidimensional array using arange function (This function generates number with the given range and given dimensions)\n",
        "# Multidimensional array indexing\n",
        "a = np.reshape(np.arange(30), (5, 6))  # Create a 5x6 array\n",
        "print(\"Original Array:\\n\", a)\n",
        "\n",
        "b = a[1:4, 0:2]  # Select elements in rows 1-3 and columns 0-1\n",
        "print(\"Sliced Array:\\n\", b)\n"
      ]
    },
    {
      "cell_type": "markdown",
      "id": "823ddc43-d66a-4cdc-a5be-d894351dd57f",
      "metadata": {
        "id": "823ddc43-d66a-4cdc-a5be-d894351dd57f"
      },
      "source": [
        "## Perform Mathematical Operations:\n",
        "\n",
        "Numpy offers a wide range of mathematical operations starting from simple arithmetic operation to complex scientific calculations.\n",
        "\n",
        "Let us have a look at the basic arithmetic operations like, sum, mean, max,min etc.\n",
        "\n",
        "The below mentioned operations can be done on two or more arrays as well."
      ]
    },
    {
      "cell_type": "code",
      "execution_count": null,
      "id": "8bcdfb03-0fd7-4617-acff-1642eef7522a",
      "metadata": {
        "id": "8bcdfb03-0fd7-4617-acff-1642eef7522a",
        "outputId": "51409554-02cd-43b8-cbf5-f0a32190995a"
      },
      "outputs": [
        {
          "data": {
            "text/plain": [
              "35"
            ]
          },
          "execution_count": 107,
          "metadata": {},
          "output_type": "execute_result"
        }
      ],
      "source": [
        "sample_array = np.array([1,2,4,5,7,8,3,5])\n",
        "np.sum(sample_array) # Prints the sum of all values in the array."
      ]
    },
    {
      "cell_type": "code",
      "execution_count": null,
      "id": "2635ed0f-a4bc-415a-84ff-2cae9ce9605d",
      "metadata": {
        "id": "2635ed0f-a4bc-415a-84ff-2cae9ce9605d",
        "outputId": "67f489c7-64db-4f15-9edd-7a2326192332"
      },
      "outputs": [
        {
          "data": {
            "text/plain": [
              "4.375"
            ]
          },
          "execution_count": 108,
          "metadata": {},
          "output_type": "execute_result"
        }
      ],
      "source": [
        "np.mean(sample_array) # Displays the avarage value of all the items present in the array"
      ]
    },
    {
      "cell_type": "code",
      "execution_count": null,
      "id": "a06c2f8e-c560-4028-9f02-98085e5e5d47",
      "metadata": {
        "id": "a06c2f8e-c560-4028-9f02-98085e5e5d47",
        "outputId": "2312697c-66e2-4ffc-9726-e851296305e0"
      },
      "outputs": [
        {
          "data": {
            "text/plain": [
              "8"
            ]
          },
          "execution_count": 109,
          "metadata": {},
          "output_type": "execute_result"
        }
      ],
      "source": [
        "np.max(sample_array) # Displays the highest value present in the array"
      ]
    },
    {
      "cell_type": "code",
      "execution_count": null,
      "id": "0783744a-2118-4211-8f8f-d3bd59774162",
      "metadata": {
        "id": "0783744a-2118-4211-8f8f-d3bd59774162",
        "outputId": "e90647ba-2f7b-4fe7-c68c-d3538fd9de63"
      },
      "outputs": [
        {
          "data": {
            "text/plain": [
              "1"
            ]
          },
          "execution_count": 110,
          "metadata": {},
          "output_type": "execute_result"
        }
      ],
      "source": [
        "np.min(sample_array) # Displays the lowest value present in the array."
      ]
    },
    {
      "cell_type": "code",
      "execution_count": null,
      "id": "d755846d-68a8-4e1b-bdce-6cc73f125e5a",
      "metadata": {
        "id": "d755846d-68a8-4e1b-bdce-6cc73f125e5a",
        "outputId": "9c1959eb-0f06-49f2-b830-6dacff2f82aa"
      },
      "outputs": [
        {
          "data": {
            "text/plain": [
              "9"
            ]
          },
          "execution_count": 111,
          "metadata": {},
          "output_type": "execute_result"
        }
      ],
      "source": [
        "np.power(3,2) # Displays the value for 3 to the power of 2"
      ]
    },
    {
      "cell_type": "code",
      "execution_count": null,
      "id": "b5ecf00d-7e24-45d0-a4f1-5b3454b3a71d",
      "metadata": {
        "id": "b5ecf00d-7e24-45d0-a4f1-5b3454b3a71d",
        "outputId": "043edcbd-ef43-4c7b-906e-f1490cbbd6e7"
      },
      "outputs": [
        {
          "data": {
            "text/plain": [
              "0"
            ]
          },
          "execution_count": 112,
          "metadata": {},
          "output_type": "execute_result"
        }
      ],
      "source": [
        "np.remainder(70,7) # Displays the remainder of the two values given"
      ]
    },
    {
      "cell_type": "code",
      "execution_count": null,
      "id": "5572ea34-716f-42f4-8d3f-0b0d2936f386",
      "metadata": {
        "id": "5572ea34-716f-42f4-8d3f-0b0d2936f386",
        "outputId": "8aa9fb64-b7f8-4a80-ca16-a09f4cb8e646"
      },
      "outputs": [
        {
          "data": {
            "text/plain": [
              "4"
            ]
          },
          "execution_count": 113,
          "metadata": {},
          "output_type": "execute_result"
        }
      ],
      "source": [
        "np.mod(70,6) # performs the modulus operation"
      ]
    },
    {
      "cell_type": "markdown",
      "id": "bc7fdc4b-c22a-49bc-8dec-0a4c61711292",
      "metadata": {
        "id": "bc7fdc4b-c22a-49bc-8dec-0a4c61711292"
      },
      "source": [
        "## Reshaping and Transposing Arrays:\n",
        "\n",
        "We will see how the reshape and transpose functions work.\n",
        "\n",
        "Reshape function lets us to change the shape of the array. The shape of an array is the number of elements in each dimension.\n",
        "By reshaping we can add or remove dimensions or change number of elements in each dimensio\n",
        "\n",
        "Transpose function lets us change the rows as columns and columns as rows.e."
      ]
    },
    {
      "cell_type": "code",
      "execution_count": null,
      "id": "87a83ef9-0e71-4c66-83af-dd0e26735e5b",
      "metadata": {
        "id": "87a83ef9-0e71-4c66-83af-dd0e26735e5b",
        "outputId": "a3e1502b-618f-4999-b65e-fd6dc0faf1cd"
      },
      "outputs": [
        {
          "name": "stdout",
          "output_type": "stream",
          "text": [
            "Original Array [ 1  2  3  4  5  6  7  8  9 10 11 12]\n",
            "Reshaped array \n",
            " [[ 1  2  3]\n",
            " [ 4  5  6]\n",
            " [ 7  8  9]\n",
            " [10 11 12]]\n"
          ]
        }
      ],
      "source": [
        "#Reshape the one dimensional array as a two dimensional array\n",
        "arr = np.array([1, 2, 3, 4, 5, 6, 7, 8, 9, 10, 11, 12])\n",
        "\n",
        "print(\"Original Array\",arr)\n",
        "\n",
        "newarr = arr.reshape(4, 3)\n",
        "\n",
        "print(\"Reshaped array \\n\", newarr)\n"
      ]
    },
    {
      "cell_type": "code",
      "execution_count": null,
      "id": "fa8ce601-11f0-48b6-b15b-5a60087bd505",
      "metadata": {
        "id": "fa8ce601-11f0-48b6-b15b-5a60087bd505",
        "outputId": "4684cfa4-5c2e-4770-e96d-46b871dced9b"
      },
      "outputs": [
        {
          "name": "stdout",
          "output_type": "stream",
          "text": [
            "Array before Transpose \n",
            " [[ 1  2  3]\n",
            " [ 4  5  6]\n",
            " [ 7  8  9]\n",
            " [10 11 12]]\n",
            "Array after Transpose \n",
            " [[ 1  4  7 10]\n",
            " [ 2  5  8 11]\n",
            " [ 3  6  9 12]]\n"
          ]
        }
      ],
      "source": [
        "print(\"Array before Transpose \\n\", newarr)\n",
        "print(\"Array after Transpose \\n\", newarr.T)"
      ]
    },
    {
      "cell_type": "markdown",
      "id": "cfeedf14-a3fc-493a-9dda-46e5e8dd0ec0",
      "metadata": {
        "id": "cfeedf14-a3fc-493a-9dda-46e5e8dd0ec0"
      },
      "source": [
        "## Concatenating and Splitting Arrays:\n",
        "\n",
        "Numpy arrays can be  and stacked. There are two function that allows us to do he above said operations.\n",
        "Numpy.concatenate - Allows us to add arrays to the axes' of the already existing array.\n",
        "Numpy.Stack - Allows us to add two arrays together.\n",
        "\n",
        "Also we have options to split arrays, horizontally and vertically.\n",
        "\n",
        "* Show examples of splitting arrays into smaller chunks using numpy.split(), numpy.hsplit(), or numpy.vsplit()."
      ]
    },
    {
      "cell_type": "code",
      "execution_count": null,
      "id": "bbb66043-d04b-4d84-be41-0bd654c7c2d4",
      "metadata": {
        "id": "bbb66043-d04b-4d84-be41-0bd654c7c2d4",
        "outputId": "db876a8b-079a-4b0e-cfc6-b13beefa6643"
      },
      "outputs": [
        {
          "data": {
            "text/plain": [
              "array([1, 2, 3, 4, 5, 6, 7, 8])"
            ]
          },
          "execution_count": 116,
          "metadata": {},
          "output_type": "execute_result"
        }
      ],
      "source": [
        "# Concatenating arrays\n",
        "arr1 = np.array([1, 2, 3])\n",
        "arr2 = np.array([4, 5, 6])\n",
        "concat_arr = np.concatenate((arr1, arr2))\n",
        "print(\"Concatenated Array:\", concat_arr)\n",
        "\n",
        "# appends given values in the same axes."
      ]
    },
    {
      "cell_type": "code",
      "execution_count": null,
      "id": "11e212a2-7fb3-4fc9-a941-907880418f8b",
      "metadata": {
        "id": "11e212a2-7fb3-4fc9-a941-907880418f8b",
        "outputId": "ea2d286e-cb0c-428e-f2ba-6ddacb38c233"
      },
      "outputs": [
        {
          "data": {
            "text/plain": [
              "array([[11, 44],\n",
              "       [22, 55],\n",
              "       [33, 66]])"
            ]
          },
          "execution_count": 117,
          "metadata": {},
          "output_type": "execute_result"
        }
      ],
      "source": [
        "arr3 = np.array([11,22,33])\n",
        "arr4 = np.array([44,55,66])\n",
        "\n",
        "stacked_arr = np.stack((arr3,arr4),axis=1)\n",
        "stacked_arr\n",
        "# stacks the new array in a new axis"
      ]
    },
    {
      "cell_type": "code",
      "execution_count": null,
      "id": "a2b3d336-ce40-41f8-9a98-fd4b65e6a75a",
      "metadata": {
        "id": "a2b3d336-ce40-41f8-9a98-fd4b65e6a75a",
        "outputId": "b8c24c11-1e88-4ac4-dedf-869aa8964df6"
      },
      "outputs": [
        {
          "data": {
            "text/plain": [
              "[array([10, 20, 30, 40]), array([50, 60, 70]), array([ 80,  90, 100])]"
            ]
          },
          "execution_count": 118,
          "metadata": {},
          "output_type": "execute_result"
        }
      ],
      "source": [
        "# splits the given array to three new arrays.\n",
        "arr12 = np.array([10,20,30,40,50,60,70,80,90,100])\n",
        "new_array = np.array_split(arr12,3)\n",
        "new_array\n"
      ]
    },
    {
      "cell_type": "markdown",
      "id": "5407f40e-b486-48a3-9cd6-470d1db4f9e3",
      "metadata": {
        "id": "5407f40e-b486-48a3-9cd6-470d1db4f9e3"
      },
      "source": [
        "## Statistical Analysis with NumPy:\n",
        "The very base of statistical analysis is the mean, median, variance, standard deviation, correlation and covariance. Numpy offer built-in functions to perform all these operations.\n",
        "\n",
        "* Teach users how to perform statistical analysis on data using NumPy functions like numpy.mean(), numpy.median(), numpy.var(), numpy.std(), etc.\n",
        "* Explain how to calculate correlations and covariance using numpy.corrcoef() and numpy.cov()."
      ]
    },
    {
      "cell_type": "code",
      "execution_count": null,
      "id": "93cec814-8da9-460c-ac02-a1438bc5e7fe",
      "metadata": {
        "id": "93cec814-8da9-460c-ac02-a1438bc5e7fe",
        "outputId": "c11f5c60-66b7-4d68-caf0-8449c375d4d4"
      },
      "outputs": [
        {
          "data": {
            "text/plain": [
              "55.0"
            ]
          },
          "execution_count": 119,
          "metadata": {},
          "output_type": "execute_result"
        }
      ],
      "source": [
        "arr12 = np.array([10,20,30,40,50,60,70,80,90,100])\n",
        "np.mean(arr12)"
      ]
    },
    {
      "cell_type": "code",
      "execution_count": null,
      "id": "4d4f8670-a0a5-4476-a251-69f9600e3e02",
      "metadata": {
        "id": "4d4f8670-a0a5-4476-a251-69f9600e3e02",
        "outputId": "3ca0b580-0274-470d-9a4b-504cd091c7c7"
      },
      "outputs": [
        {
          "data": {
            "text/plain": [
              "55.0"
            ]
          },
          "execution_count": 120,
          "metadata": {},
          "output_type": "execute_result"
        }
      ],
      "source": [
        "np.median(arr12)"
      ]
    },
    {
      "cell_type": "code",
      "execution_count": null,
      "id": "78d5ac4d-6faa-4666-8972-692c33b266f1",
      "metadata": {
        "id": "78d5ac4d-6faa-4666-8972-692c33b266f1",
        "outputId": "fea2d7ae-9ec3-466d-8769-8d3b1d3fbb6a"
      },
      "outputs": [
        {
          "data": {
            "text/plain": [
              "28.722813232690143"
            ]
          },
          "execution_count": 121,
          "metadata": {},
          "output_type": "execute_result"
        }
      ],
      "source": [
        "np.std(arr12) #Standar Deviation"
      ]
    },
    {
      "cell_type": "code",
      "execution_count": null,
      "id": "5e66b921-50ec-4193-8030-c6219bd9c662",
      "metadata": {
        "id": "5e66b921-50ec-4193-8030-c6219bd9c662",
        "outputId": "9ae3105d-b1e0-4cb0-dc67-cee08d626c3f"
      },
      "outputs": [
        {
          "data": {
            "text/plain": [
              "1.0"
            ]
          },
          "execution_count": 122,
          "metadata": {},
          "output_type": "execute_result"
        }
      ],
      "source": [
        "np.corrcoef(arr12)"
      ]
    },
    {
      "cell_type": "markdown",
      "id": "4d45b267-123f-4a15-b5aa-2393a8f13d80",
      "metadata": {
        "id": "4d45b267-123f-4a15-b5aa-2393a8f13d80"
      },
      "source": [
        "## Random Number Generation:\n",
        "\n",
        "Random numbers can be generated using numpy.random function which implements pseudo-random number generators (PRNGs or RNGs, for short) with the ability to draw samples from a variety of probability distributions\n",
        "* Guide users on generating random numbers and arrays using functions like numpy.random.rand(), numpy.random.randint(), numpy.random.normal(), etc.\n",
        "* Show how to simulate random sampling and distributions for statistical analysis."
      ]
    },
    {
      "cell_type": "code",
      "execution_count": null,
      "id": "ad46d65b-a52e-4c82-8910-6112463218df",
      "metadata": {
        "id": "ad46d65b-a52e-4c82-8910-6112463218df",
        "outputId": "edf0d193-814a-4ae2-9638-71de4d2f44af"
      },
      "outputs": [
        {
          "data": {
            "text/plain": [
              "array([0.15431771, 0.6501012 , 0.61327777, 0.16606223, 0.90418256])"
            ]
          },
          "execution_count": 123,
          "metadata": {},
          "output_type": "execute_result"
        }
      ],
      "source": [
        "array = np.random.rand(5)  # This generates an array with 5 values consisting of random numbers between 0 and 1\n",
        "array"
      ]
    },
    {
      "cell_type": "code",
      "execution_count": null,
      "id": "23934341-d5ca-475b-a34c-90883dff9340",
      "metadata": {
        "id": "23934341-d5ca-475b-a34c-90883dff9340",
        "outputId": "d02ee6ec-7bdd-4f07-8ca4-4391d75ccbf9"
      },
      "outputs": [
        {
          "data": {
            "text/plain": [
              "3"
            ]
          },
          "execution_count": 124,
          "metadata": {},
          "output_type": "execute_result"
        }
      ],
      "source": [
        "array = np.random.randint(5)  # Each time this function is execute, a random integer within 5 will be generated.\n",
        "array"
      ]
    },
    {
      "cell_type": "markdown",
      "id": "d9ecd4f2-331c-4694-921a-25e02b5a1859",
      "metadata": {
        "id": "d9ecd4f2-331c-4694-921a-25e02b5a1859"
      },
      "source": [
        "## File I/O Operations:\n",
        "\n",
        "Numpy arrays can be saved to a file and viceversa. The functions used to save the array to a file and load an array from the file is as follows\n",
        "\n",
        "1. numpy.savetxt() or numpy.save()\n",
        "2. numpy.loadtxt() or numpy.load()"
      ]
    },
    {
      "cell_type": "code",
      "execution_count": null,
      "id": "59dab916-4d97-45d4-9efb-78c4a01bf4d0",
      "metadata": {
        "id": "59dab916-4d97-45d4-9efb-78c4a01bf4d0",
        "outputId": "af0e94f3-66e4-4cc9-f2c1-588e6a255add"
      },
      "outputs": [
        {
          "name": "stdout",
          "output_type": "stream",
          "text": [
            "x is:\n",
            "[0 1 2 3 4 5 6 7 8 9]\n",
            "the file contains:\n",
            "0.000000000000000000e+00\n",
            "1.000000000000000000e+00\n",
            "2.000000000000000000e+00\n",
            "3.000000000000000000e+00\n",
            "4.000000000000000000e+00\n",
            "5.000000000000000000e+00\n",
            "6.000000000000000000e+00\n",
            "7.000000000000000000e+00\n",
            "8.000000000000000000e+00\n",
            "9.000000000000000000e+00\n",
            "\n"
          ]
        }
      ],
      "source": [
        "x = np.arange(0, 10, 1)\n",
        "print(\"x is:\")\n",
        "print(x)\n",
        "\n",
        "# X is an array\n",
        "c = np.savetxt('sample.txt', (x))    #Save the array to the text file..\n",
        "a = open(\"sample.txt\", 'r') # open text file in read mode\n",
        "\n",
        "print(\"the file contains:\")\n",
        "\n",
        "print(a.read()) #Displays the array saved in the text file."
      ]
    },
    {
      "cell_type": "code",
      "execution_count": null,
      "id": "cc13e791-5d33-43ad-9039-ffe2311e956c",
      "metadata": {
        "id": "cc13e791-5d33-43ad-9039-ffe2311e956c",
        "outputId": "9c0ec101-da70-40c0-87a9-647031b83e0e"
      },
      "outputs": [
        {
          "data": {
            "text/plain": [
              "array([0., 1., 2., 3., 4., 5., 6., 7., 8., 9.])"
            ]
          },
          "execution_count": 126,
          "metadata": {},
          "output_type": "execute_result"
        }
      ],
      "source": [
        "c= np.loadtxt('sample.txt') #loads the array present in the text file to a variable.\n",
        "c"
      ]
    },
    {
      "cell_type": "markdown",
      "id": "33efe432-1613-421f-a23a-99d9ff55fdab",
      "metadata": {
        "id": "33efe432-1613-421f-a23a-99d9ff55fdab"
      },
      "source": [
        "## Exercises\n",
        "\n",
        "The following exercises can be easily done if you have diligently gone through the above given exercises."
      ]
    },
    {
      "cell_type": "markdown",
      "source": [
        "1. Create a 1D array of numbers from 0 to 9."
      ],
      "metadata": {
        "id": "x16Zt_X3PCDs"
      },
      "id": "x16Zt_X3PCDs"
    },
    {
      "cell_type": "code",
      "execution_count": null,
      "id": "a3be2799-dbc4-44fd-83a7-cd1d19a28875",
      "metadata": {
        "id": "a3be2799-dbc4-44fd-83a7-cd1d19a28875"
      },
      "outputs": [],
      "source": [
        "# Answer 1\n",
        "\n"
      ]
    },
    {
      "cell_type": "markdown",
      "source": [
        "2. Create a 2D array (3x3) of all ones."
      ],
      "metadata": {
        "id": "Kja17RCHPIsK"
      },
      "id": "Kja17RCHPIsK"
    },
    {
      "cell_type": "code",
      "execution_count": null,
      "id": "b6632dca-773a-4c5d-891d-0161aceec71e",
      "metadata": {
        "id": "b6632dca-773a-4c5d-891d-0161aceec71e"
      },
      "outputs": [],
      "source": [
        "# Answer 2\n",
        "\n"
      ]
    },
    {
      "cell_type": "markdown",
      "source": [
        "3. Create a 2D array (5x5) with values ranging from 1 to 25, then reshape it to (5x5)."
      ],
      "metadata": {
        "id": "fYs1JylcPQVi"
      },
      "id": "fYs1JylcPQVi"
    },
    {
      "cell_type": "code",
      "execution_count": null,
      "id": "969aecb8-8306-4153-8f64-ba314bc6d300",
      "metadata": {
        "id": "969aecb8-8306-4153-8f64-ba314bc6d300"
      },
      "outputs": [],
      "source": [
        "# Answer 3\n",
        "\n"
      ]
    },
    {
      "cell_type": "markdown",
      "source": [
        "4. Extract the middle row and column from the 5x5 array."
      ],
      "metadata": {
        "id": "uGo3Gc4OPgWb"
      },
      "id": "uGo3Gc4OPgWb"
    },
    {
      "cell_type": "code",
      "execution_count": null,
      "id": "398b9596-e5e2-4534-8af1-32e2cf9c16ba",
      "metadata": {
        "id": "398b9596-e5e2-4534-8af1-32e2cf9c16ba"
      },
      "outputs": [],
      "source": [
        "# Answer 4\n",
        "\n"
      ]
    },
    {
      "cell_type": "markdown",
      "source": [
        "5. Perform element-wise addition and multiplication on two 1D arrays of length 5 with random integers between 1 and 10."
      ],
      "metadata": {
        "id": "IQIPyGZGPlfi"
      },
      "id": "IQIPyGZGPlfi"
    },
    {
      "cell_type": "code",
      "execution_count": null,
      "id": "912214c9-48fe-49ec-95cc-9ce9738c6673",
      "metadata": {
        "id": "912214c9-48fe-49ec-95cc-9ce9738c6673"
      },
      "outputs": [],
      "source": [
        "# Answer 5\n",
        "\n"
      ]
    },
    {
      "cell_type": "markdown",
      "source": [
        "6. Subtract the mean of the array created from the 1D array of numbers from 0 to 9."
      ],
      "metadata": {
        "id": "Z_PRml8oPuhJ"
      },
      "id": "Z_PRml8oPuhJ"
    },
    {
      "cell_type": "code",
      "execution_count": null,
      "id": "1da72dd6-c758-4c8e-be05-da7b9ee36312",
      "metadata": {
        "id": "1da72dd6-c758-4c8e-be05-da7b9ee36312"
      },
      "outputs": [],
      "source": [
        "# Answer 6\n",
        "\n"
      ]
    },
    {
      "cell_type": "markdown",
      "source": [
        "7. Calculate sum, mean, median, and standard deviation of a 1D array."
      ],
      "metadata": {
        "id": "AhDs25iPQE5i"
      },
      "id": "AhDs25iPQE5i"
    },
    {
      "cell_type": "code",
      "source": [
        "# Answer 7\n",
        "\n"
      ],
      "metadata": {
        "id": "9y1vJz5qQGHU"
      },
      "id": "9y1vJz5qQGHU",
      "execution_count": null,
      "outputs": []
    },
    {
      "cell_type": "markdown",
      "source": [
        "8. Generate random numbers using numpy.random.rand() and numpy.random.randint()."
      ],
      "metadata": {
        "id": "NA2LOEITQJqh"
      },
      "id": "NA2LOEITQJqh"
    },
    {
      "cell_type": "code",
      "source": [
        "# Answer 8\n",
        "\n"
      ],
      "metadata": {
        "id": "SAoweIamQK6e"
      },
      "id": "SAoweIamQK6e",
      "execution_count": null,
      "outputs": []
    },
    {
      "cell_type": "markdown",
      "source": [
        "9. Save and load a NumPy array to/from a text file."
      ],
      "metadata": {
        "id": "O9zFUu67QRAi"
      },
      "id": "O9zFUu67QRAi"
    },
    {
      "cell_type": "code",
      "source": [
        "# Answer 9\n",
        "\n"
      ],
      "metadata": {
        "id": "W5037Pw9QSuN"
      },
      "id": "W5037Pw9QSuN",
      "execution_count": null,
      "outputs": []
    },
    {
      "cell_type": "code",
      "execution_count": null,
      "id": "8b01bf16-8be4-4b30-ab0e-cc32900e56a0",
      "metadata": {
        "id": "8b01bf16-8be4-4b30-ab0e-cc32900e56a0"
      },
      "outputs": [],
      "source": []
    }
  ],
  "metadata": {
    "kernelspec": {
      "display_name": "Python 3 (ipykernel)",
      "language": "python",
      "name": "python3"
    },
    "language_info": {
      "codemirror_mode": {
        "name": "ipython",
        "version": 3
      },
      "file_extension": ".py",
      "mimetype": "text/x-python",
      "name": "python",
      "nbconvert_exporter": "python",
      "pygments_lexer": "ipython3",
      "version": "3.10.13"
    },
    "colab": {
      "provenance": []
    }
  },
  "nbformat": 4,
  "nbformat_minor": 5
}